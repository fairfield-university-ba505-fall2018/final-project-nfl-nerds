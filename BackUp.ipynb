{
 "cells": [
  {
   "cell_type": "code",
   "execution_count": 1,
   "metadata": {},
   "outputs": [],
   "source": [
    "#import numpy, pandas, and matplotlib.pyplot\n",
    "import numpy as np\n",
    "import pandas as pd\n",
    "import matplotlib.pyplot as plt\n",
    "import datetime"
   ]
  },
  {
   "cell_type": "code",
   "execution_count": null,
   "metadata": {},
   "outputs": [],
   "source": [
    "mlb_batting = pd.read_csv('MLBPlayoffDataBatting.csv', index_col = 0)"
   ]
  },
  {
   "cell_type": "code",
   "execution_count": null,
   "metadata": {},
   "outputs": [],
   "source": [
    "#Data type of our data set\n",
    "type(mlb_batting)"
   ]
  },
  {
   "cell_type": "code",
   "execution_count": null,
   "metadata": {},
   "outputs": [],
   "source": [
    "#Coverting column to their original data types\n",
    "mlb_bat = pd.to_datetime(mlb_batting['Date'],errors='coerce')\n",
    "pd.to_numeric(mlb_batting['Gm#'],errors='coerce')\n",
    "pd.to_numeric(mlb_batting['PA'],errors='coerce')\n",
    "pd.to_numeric(mlb_batting['AB'],errors='coerce')\n",
    "pd.to_numeric(mlb_batting['R'],errors='coerce')\n",
    "pd.to_numeric(mlb_batting['H'],errors='coerce')\n",
    "pd.to_numeric(mlb_batting['2B'],errors='coerce')\n",
    "pd.to_numeric(mlb_batting['3B'],errors='coerce')\n",
    "pd.to_numeric(mlb_batting['HR'],errors='coerce')\n",
    "pd.to_numeric(mlb_batting['RBI'],errors='coerce')\n",
    "pd.to_numeric(mlb_batting['BB'],errors='coerce')\n",
    "pd.to_numeric(mlb_batting['IBB'],errors='coerce')\n",
    "pd.to_numeric(mlb_batting['SO'],errors='coerce')\n",
    "pd.to_numeric(mlb_batting['HBP'],errors='coerce')\n",
    "pd.to_numeric(mlb_batting['SH'],errors='coerce')\n",
    "pd.to_numeric(mlb_batting['SF'],errors='coerce')\n",
    "pd.to_numeric(mlb_batting['ROE'],errors='coerce')\n",
    "pd.to_numeric(mlb_batting['GDP'],errors='coerce')\n",
    "pd.to_numeric(mlb_batting['SB'],errors='coerce')\n",
    "pd.to_numeric(mlb_batting['CS'],errors='coerce')\n",
    "pd.to_numeric(mlb_batting['WPA'],errors='coerce')\n",
    "pd.to_numeric(mlb_batting['RE24'],errors='coerce')\n",
    "pd.to_numeric(mlb_batting['aLI'],errors='coerce')\n",
    "pd.to_numeric(mlb_batting['LOB'],errors='coerce')\n",
    "pd.to_numeric(mlb_batting['#'],errors='coerce')\n",
    "pd.to_numeric(mlb_batting['Attendance'],errors='coerce')\n",
    "pd.to_numeric(mlb_batting['GmLen'],errors='coerce')"
   ]
  },
  {
   "cell_type": "code",
   "execution_count": null,
   "metadata": {},
   "outputs": [],
   "source": [
    "#Extracting year from datetime type and inserting it as its own column\n",
    "mlb_batting['year'] = mlb_bat.dt.year"
   ]
  },
  {
   "cell_type": "code",
   "execution_count": null,
   "metadata": {},
   "outputs": [],
   "source": [
    "#Creating Sub-DataFrames for each World Series winning team\n",
    "BOS2018 = mlb_batting.loc[(mlb_batting['Tm'] == 'BOS') & mlb_batting['year'].isin([2018])]\n",
    "HOU2017 = mlb_batting.loc[(mlb_batting['Tm'] == 'HOU') & mlb_batting['year'].isin([2017])]\n",
    "CHC2016 = mlb_batting.loc[(mlb_batting['Tm'] == 'CHC') & mlb_batting['year'].isin([2016])]\n",
    "KCR2015 = mlb_batting.loc[(mlb_batting['Tm'] == 'KCR') & mlb_batting['year'].isin([2015])]\n",
    "SFG2014 = mlb_batting.loc[(mlb_batting['Tm'] == 'SFG') & mlb_batting['year'].isin([2014])]\n",
    "BOS2013 = mlb_batting.loc[(mlb_batting['Tm'] == 'BOS') & mlb_batting['year'].isin([2013])]\n",
    "SFG2012 = mlb_batting.loc[(mlb_batting['Tm'] == 'SFG') & mlb_batting['year'].isin([2012])]\n",
    "STL2011 = mlb_batting.loc[(mlb_batting['Tm'] == 'STL') & mlb_batting['year'].isin([2011])]\n",
    "SFG2010 = mlb_batting.loc[(mlb_batting['Tm'] == 'SFG') & mlb_batting['year'].isin([2010])]\n",
    "NYY2009 = mlb_batting.loc[(mlb_batting['Tm'] == 'NYY') & mlb_batting['year'].isin([2009])]\n",
    "PHI2008 = mlb_batting.loc[(mlb_batting['Tm'] == 'PHI') & mlb_batting['year'].isin([2008])]\n",
    "BOS2007 = mlb_batting.loc[(mlb_batting['Tm'] == 'BOS') & mlb_batting['year'].isin([2007])]\n",
    "STL2006 = mlb_batting.loc[(mlb_batting['Tm'] == 'STL') & mlb_batting['year'].isin([2006])]\n",
    "CHW2005 = mlb_batting.loc[(mlb_batting['Tm'] == 'CHW') & mlb_batting['year'].isin([2005])]\n",
    "BOS2004 = mlb_batting.loc[(mlb_batting['Tm'] == 'BOS') & mlb_batting['year'].isin([2004])]\n",
    "FLA2003 = mlb_batting.loc[(mlb_batting['Tm'] == 'FLA') & mlb_batting['year'].isin([2003])]\n",
    "ANA2002 = mlb_batting.loc[(mlb_batting['Tm'] == 'ANA') & mlb_batting['year'].isin([2002])]\n",
    "ARI2001 = mlb_batting.loc[(mlb_batting['Tm'] == 'ARI') & mlb_batting['year'].isin([2001])]\n",
    "NYY2000 = mlb_batting.loc[(mlb_batting['Tm'] == 'NYY') & mlb_batting['year'].isin([2000])]"
   ]
  },
  {
   "cell_type": "code",
   "execution_count": null,
   "metadata": {},
   "outputs": [],
   "source": [
    "#Calculating the mean for each column of statistical data by year\n",
    "for x in range(2000, 2019):\n",
    "    print(mlb_batting.loc[mlb_batting['year'].isin([x])].mean())"
   ]
  },
  {
   "cell_type": "code",
   "execution_count": null,
   "metadata": {},
   "outputs": [],
   "source": [
    "#Dictionary with years as the key and total home runs as the values\n",
    "HR_dict = {'2000': 11, '2001': 11, '2002': 24, \n",
    "           '2003': 14, '2004':18, '2005':18, \n",
    "           '2006':13, '2007':18, '2008': 19, \n",
    "           '2009':20, '2010': 13, '2011':18, \n",
    "           '2012': 14, '2013':10, '2014': 7,\n",
    "          '2015':17, '2016':20, '2017':27,\n",
    "          '2018':17}\n",
    "\n",
    "#Created two separate variables for the dictionary's keys and values\n",
    "names = list(HR_dict.keys())\n",
    "values = list(HR_dict.values())\n",
    "\n",
    "#Creating bar chart with the dictionary's keys and values & the key names as the tick names on the x-axis\n",
    "plt.bar(range(len(HR_dict)), values, tick_label=names)\n",
    "\n",
    "#Creating a title, x-axis label, & y-axis label for the chart\n",
    "plt.title('Total Home Runs Hit per World Series Team (2000 - 2018)')\n",
    "plt.xlabel('year')\n",
    "plt.ylabel('Total Home Runs Hit')\n",
    "\n",
    "#Adjusting the size of chart so the x-axis labels do not overlap and are spaced properly\n",
    "plt.rcParams['figure.figsize'] = (12, 8)\n",
    "\n",
    "plt.show()"
   ]
  },
  {
   "cell_type": "code",
   "execution_count": null,
   "metadata": {},
   "outputs": [],
   "source": [
    "#Dictionary with years as the key and total hits as the values\n",
    "H_dict = {'2000': 145, '2001': 142, '2002': 181, \n",
    "           '2003': 152, '2004':149, '2005':113, \n",
    "           '2006':126, '2007':149, '2008': 121, \n",
    "           '2009':134, '2010': 118, '2011':167, \n",
    "           '2012': 127, '2013':118, '2014': 154,\n",
    "          '2015':146, '2016':137, '2017':145,\n",
    "          '2018':121}\n",
    "\n",
    "#Created two separate variables for the dictionary's keys and values\n",
    "names = list(H_dict.keys())\n",
    "values = list(H_dict.values())\n",
    "\n",
    "#Creating bar chart with the dictionary's keys and values & the key names as the tick names on the x-axis\n",
    "plt.bar(range(len(H_dict)), values, tick_label=names)\n",
    "\n",
    "#Creating a title, x-axis label, & y-axis label for the chart\n",
    "plt.title('Total Hits per World Series Team (2000 - 2018)')\n",
    "plt.xlabel('year')\n",
    "plt.ylabel('Total Hits')\n",
    "\n",
    "#Adjusting the size of chart so the x-axis labels do not overlap and are spaced properly\n",
    "plt.rcParams['figure.figsize'] = (12, 8)\n",
    "\n",
    "plt.show()"
   ]
  },
  {
   "cell_type": "code",
   "execution_count": null,
   "metadata": {},
   "outputs": [],
   "source": [
    "#Dictionary with years as the key and total RBIs as the values\n",
    "RBI_dict = {'2000':68, '2001':67, '2002':95, \n",
    "           '2003':74, '2004':87, '2005':66, \n",
    "           '2006':55, '2007':96, '2008':60, \n",
    "           '2009':75, '2010':55, '2011':92, \n",
    "           '2012':62, '2013':67, '2014':66,\n",
    "          '2015':83, '2016':73, '2017':73,\n",
    "          '2018':80}\n",
    "\n",
    "#Created two separate variables for the dictionary's keys and values\n",
    "names = list(RBI_dict.keys())\n",
    "values = list(RBI_dict.values())\n",
    "\n",
    "#Creating bar chart with the dictionary's keys and values & the key names as the tick names on the x-axis\n",
    "plt.bar(range(len(RBI_dict)), values, tick_label=names)\n",
    "\n",
    "#Creating a title, x-axis label, & y-axis label for the chart\n",
    "plt.title('Total Runs Batted In per World Series Team (2000 - 2018)')\n",
    "plt.xlabel('year')\n",
    "plt.ylabel('Total RBIs')\n",
    "\n",
    "#Adjusting the size of chart so the x-axis labels do not overlap and are spaced properly\n",
    "plt.rcParams['figure.figsize'] = (12, 8)\n",
    "\n",
    "plt.show()"
   ]
  }
 ],
 "metadata": {
  "kernelspec": {
   "display_name": "Python 3",
   "language": "python",
   "name": "python3"
  },
  "language_info": {
   "codemirror_mode": {
    "name": "ipython",
    "version": 3
   },
   "file_extension": ".py",
   "mimetype": "text/x-python",
   "name": "python",
   "nbconvert_exporter": "python",
   "pygments_lexer": "ipython3",
   "version": "3.6.5"
  }
 },
 "nbformat": 4,
 "nbformat_minor": 2
}
