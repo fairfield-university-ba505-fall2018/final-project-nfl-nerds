{
 "cells": [
  {
   "cell_type": "code",
   "execution_count": 1,
   "metadata": {},
   "outputs": [],
   "source": [
    "#import numpy, pandas, and matplotlib.pyplot\n",
    "import numpy as np\n",
    "import pandas as pd\n",
    "import matplotlib.pyplot as plt"
   ]
  },
  {
   "cell_type": "code",
   "execution_count": 19,
   "metadata": {},
   "outputs": [],
   "source": [
    "#Reading in each individual csv files as mlb1 - mlb5\n",
    "mlb1 = pd.read_csv('MLBPlayoffData1.csv', index_col = 4)\n",
    "mlb2 = pd.read_csv('MLBPlayoffData2.csv', index_col = 4)\n",
    "mlb3 = pd.read_csv('MLBPlayoffData3.csv', index_col = 4)\n",
    "mlb4 = pd.read_csv('MLBPlayoffData4.csv', index_col = 4)\n",
    "mlb5 = pd.read_csv('MLBPlayoffData5.csv', index_col = 4)"
   ]
  },
  {
   "cell_type": "code",
   "execution_count": 28,
   "metadata": {},
   "outputs": [],
   "source": [
    "#Merging the five csv files into one file\n",
    "filenames = ['MLBPlayoffData5.csv', 'MLBPlayoffData4.csv', 'MLBPlayoffData3.csv', 'MLBPlayoffData2.csv', 'MLBPlayoffData1.csv']\n",
    "mlb = [pd.read_csv(f, index_col = 4) for f in filenames]"
   ]
  },
  {
   "cell_type": "code",
   "execution_count": null,
   "metadata": {},
   "outputs": [],
   "source": []
  }
 ],
 "metadata": {
  "kernelspec": {
   "display_name": "Python 3",
   "language": "python",
   "name": "python3"
  },
  "language_info": {
   "codemirror_mode": {
    "name": "ipython",
    "version": 3
   },
   "file_extension": ".py",
   "mimetype": "text/x-python",
   "name": "python",
   "nbconvert_exporter": "python",
   "pygments_lexer": "ipython3",
   "version": "3.6.5"
  }
 },
 "nbformat": 4,
 "nbformat_minor": 2
}
